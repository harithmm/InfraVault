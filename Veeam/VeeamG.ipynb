{
 "cells": [
  {
   "cell_type": "code",
   "execution_count": null,
   "id": "2cac78e0",
   "metadata": {},
   "outputs": [],
   "source": [
    "import pandas as pd\n",
    "\n",
    "# Prompt the user to enter the file path of their CSV file\n",
    "csv_file_path = input(\"Enter the file path of your CSV file: \")\n",
    "\n",
    "# Read the CSV file\n",
    "df = pd.read_csv(csv_file_path)\n",
    "\n",
    "# Select only the \"VmName\" and \"CreationTime\" columns\n",
    "selected_cols = df[[\"VmName\", \"CreationTime\"]]\n",
    "\n",
    "# Convert the \"CreationTime\" column to a pandas datetime type\n",
    "selected_cols[\"CreationTime\"] = pd.to_datetime(selected_cols[\"CreationTime\"])\n",
    "\n",
    "# Group the data by \"VmName\" and select the last date for each VM\n",
    "last_date_per_vm = selected_cols.groupby(\"VmName\")[\"CreationTime\"].max().reset_index()\n",
    "\n",
    "# Print the result\n",
    "print(last_date_per_vm)\n",
    "\n",
    "# Prompt the user to enter the desired output file path\n",
    "output_file_path = input(\"Enter the desired output file path for the result: \")\n",
    "\n",
    "# Save the output to the specified CSV file\n",
    "last_date_per_vm.to_csv(output_file_path, index=False)\n",
    "\n",
    "print(\"Result saved to\", output_file_path)"
   ]
  }
 ],
 "metadata": {
  "kernelspec": {
   "display_name": "Python 3 (ipykernel)",
   "language": "python",
   "name": "python3"
  },
  "language_info": {
   "codemirror_mode": {
    "name": "ipython",
    "version": 3
   },
   "file_extension": ".py",
   "mimetype": "text/x-python",
   "name": "python",
   "nbconvert_exporter": "python",
   "pygments_lexer": "ipython3",
   "version": "3.9.7"
  }
 },
 "nbformat": 4,
 "nbformat_minor": 5
}
